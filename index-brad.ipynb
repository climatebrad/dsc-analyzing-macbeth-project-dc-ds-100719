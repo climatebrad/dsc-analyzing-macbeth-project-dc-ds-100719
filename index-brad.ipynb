{
 "cells": [
  {
   "cell_type": "markdown",
   "metadata": {},
   "source": [
    "# Project: Analyzing Macbeth\n",
    "\n",
    "## Introduction\n",
    "Now we're going to do some rudimentry analysis of Shakespeare's classic play: Macbeth! You will get practice working with lists and dictionaries, condtionals, visualizing data, and thinking analytically about data.\n",
    "\n",
    "## Objectives\n",
    "You will be able to:\n",
    "* Show mastery of the content covered in this section\n",
    "\n",
    "## Getting the Data\n",
    "Here we start by importing a Python package and using it to pull the transcript of Macbeth from the project Gutenberg website. We also preview a few details about what is now stored in the variable macbeth; it's a string with 119,846 characters, the first 500 of which are printed below. "
   ]
  },
  {
   "cell_type": "code",
   "execution_count": 27,
   "metadata": {},
   "outputs": [
    {
     "name": "stdout",
     "output_type": "stream",
     "text": [
      "<class 'str'>\n",
      "120253\n",
      "﻿\r\n",
      "\r\n",
      "***The Project Gutenberg's Etext of Shakespeare's First Folio***\r\n",
      "********************The Tragedie of Macbeth*********************\r\n",
      "\r\n",
      "\r\n",
      "\r\n",
      "*******************************************************************\r\n",
      "THIS EBOOK WAS ONE OF PROJECT GUTENBERG'S EARLY FILES PRODUCED AT A\r\n",
      "TIME WHEN PROOFING METHODS AND TOOLS WERE NOT WELL DEVELOPED. THERE\r\n",
      "IS AN IMPROVED EDITION OF THIS TITLE WHICH MAY BE VIEWED AS EBOOK\r\n",
      "(#1533) at https://www.gutenberg.org/ebooks/1533\r\n",
      "*********************************\n"
     ]
    }
   ],
   "source": [
    "import requests\n",
    "macbeth = requests.get('http://www.gutenberg.org/cache/epub/2264/pg2264.txt').text\n",
    "\n",
    "print(type(macbeth))\n",
    "print(len(macbeth))\n",
    "print(macbeth[:500])"
   ]
  },
  {
   "cell_type": "markdown",
   "metadata": {},
   "source": [
    "## Your Task\n",
    "\n",
    "Your task is to create a bar graph of the 25 most common words in Shakespeare's Macbeth.  \n",
    "\n",
    "\n",
    "A common Python programming pattern to count objects, produce histograms, or update statistics is to make calls to a dictionary as you iterate through a list. For example, given a list of words, you can create a dictionary to store counts and then iterate through the list of words, checking how many times each word has appeared using your dictionary, and updating the dictionary count now that you've seen that word again. The `.get()` method of dictionary is very useful in doing this. Read the docstring for the `.get()` method and use it along with the pseudocode below to create a bar graph of the 25 most common words from the transcript of Macbeth which has been loaded into the variable 'macbeth'. Be sure to include a title and appropriate labels for your graph."
   ]
  },
  {
   "cell_type": "code",
   "execution_count": 55,
   "metadata": {},
   "outputs": [
    {
     "name": "stdout",
     "output_type": "stream",
     "text": [
      "530: ['the']\n",
      "375: ['and']\n",
      "331: ['I']\n",
      "315: ['of']\n",
      "310: ['to']\n",
      "214: ['a']\n",
      "181: ['you']\n",
      "171: ['in']\n",
      "170: ['And', 'my']\n",
      "161: ['is']\n",
      "155: ['not']\n",
      "147: ['that']\n",
      "138: ['it']\n",
      "137: ['Macb']\n",
      "134: ['with']\n",
      "129: ['his']\n",
      "124: ['be']\n",
      "118: ['The']\n",
      "117: ['haue']\n",
      "111: ['me']\n",
      "110: ['your']\n",
      "103: ['our']\n",
      "90: ['him']\n",
      "80: ['That', 'Enter']\n",
      "{'the': 530, 'and': 375, 'I': 331, 'of': 315, 'to': 310, 'a': 214, 'you': 181, 'in': 171, 'And': 170, 'my': 170, 'is': 161, 'not': 155, 'that': 147, 'it': 138, 'Macb': 137, 'with': 134, 'his': 129, 'be': 124, 'The': 118, 'haue': 117, 'me': 111, 'your': 110, 'our': 103, 'him': 90, 'That': 80, 'Enter': 80}\n"
     ]
    },
    {
     "data": {
      "text/plain": [
       "Text(0.5, 1.0, 'Top 25 words in Macbeth')"
      ]
     },
     "execution_count": 55,
     "metadata": {},
     "output_type": "execute_result"
    },
    {
     "data": {
      "image/png": "[encoded data removed]",
      "text/plain": [
       "<Figure size 432x288 with 1 Axes>"
      ]
     },
     "metadata": {
      "needs_background": "light"
     },
     "output_type": "display_data"
    }
   ],
   "source": [
    "import pandas as pd\n",
    "import numpy as np\n",
    "import matplotlib.pyplot as plt\n",
    "%matplotlib inline\n",
    "\n",
    "# Your code here\n",
    "\n",
    "# Pseudo-code outline\n",
    "\n",
    "# Split the transcript into words\n",
    "\n",
    "import re\n",
    "words = re.compile(\"[^a-zA-Z0-9_']+\").split(macbeth[macbeth.find('Reed')+5:])\n",
    "words[:100]\n",
    "# Create a dictionary\n",
    "concordance = dict({(word,0) for word in words})\n",
    "# Iterate through the text of Macbeth\n",
    "# Update word counts\n",
    "for word in words:\n",
    "        concordance[word]+=1\n",
    "\n",
    "rev_conc = dict()\n",
    "for k,v in concordance.items():\n",
    "    if v in rev_conc:\n",
    "      rev_conc[v].append(k)\n",
    "    else:\n",
    "        rev_conc[v]=[k]\n",
    "\n",
    "top_25 = sorted(rev_conc.keys(),reverse=True)[:24]\n",
    "[print(f\"{x}: {rev_conc[x]}\") for x in top_25];\n",
    "top_25_counts = {x: rev_conc[x] for x in top_25}\n",
    "# top_25_explanded = dict([(word,count) for word in top_25_words[count] for count in top_25_words])\n",
    "top_25_words=dict()\n",
    "for count in top_25_counts:\n",
    "    for word in top_25_counts[count]:\n",
    "         top_25_words[word]=count\n",
    "print(top_25_expanded)\n",
    "# Create Bar Graph\n",
    "y_pos = np.arange(len(top_25_words.keys()))\n",
    "plt.bar(y_pos, top_25_words.values(), align='center', alpha=0.5)\n",
    "\n",
    "# Include descriptive titles and labels\n",
    "plt.xticks(y_pos, top_25_words.keys())\n",
    "plt.ylabel('Count')\n",
    "plt.title('Top 25 words in Macbeth')"
   ]
  },
  {
   "cell_type": "markdown",
   "metadata": {},
   "source": [
    "## Level Up (Optional)\n",
    "This project should take you about an hour and a half to complete. If you're done much more quickly than that and are not behind in the course, feel free to deepen your knowledge by completing any or all of the following tasks until you run out of time:\n",
    "* Create a list of top characters by mentions of their names \n",
    "* Split the text by which character is talking\n",
    "* Create subgraphs of the most common words by character\n",
    "* Reduce the string to the text of the play itself. (Remove any initial notes, forward, introduction, appendix, etc.)\n",
    "* Come up with some other fun analyses of the text!\n",
    "\n",
    "## Summary\n",
    "Congratulations! You've got some extra practice combining various data types into useful programming patterns and done an initial analysis of a classic text!"
   ]
  }
 ],
 "metadata": {
  "kernelspec": {
   "display_name": "Python 3",
   "language": "python",
   "name": "python3"
  },
  "language_info": {
   "codemirror_mode": {
    "name": "ipython",
    "version": 3
   },
   "file_extension": ".py",
   "mimetype": "text/x-python",
   "name": "python",
   "nbconvert_exporter": "python",
   "pygments_lexer": "ipython3",
   "version": "3.6.6"
  }
 },
 "nbformat": 4,
 "nbformat_minor": 2
}
